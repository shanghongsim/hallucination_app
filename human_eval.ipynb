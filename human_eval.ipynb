{
 "cells": [
  {
   "cell_type": "code",
   "execution_count": 44,
   "metadata": {},
   "outputs": [],
   "source": [
    "import json\n",
    "from fuzzywuzzy import fuzz\n",
    "import re\n",
    "import string\n",
    "import torch\n",
    "import os\n",
    "import random\n",
    "import copy"
   ]
  },
  {
   "cell_type": "code",
   "execution_count": 8,
   "metadata": {},
   "outputs": [],
   "source": [
    "def normalize_answer(s):\n",
    "    def remove_articles(text):\n",
    "        return re.sub(r\"\\b(a|an|the)\\b\", \" \", text)\n",
    "\n",
    "    def white_space_fix(text):\n",
    "        return \" \".join(text.split())\n",
    "\n",
    "    def remove_punc(text):\n",
    "        exclude = set(string.punctuation)\n",
    "        return \"\".join(ch for ch in text if ch not in exclude)\n",
    "\n",
    "    def lower(text):\n",
    "        return text.lower()\n",
    "\n",
    "    return white_space_fix(remove_articles(remove_punc(lower(s))))\n",
    "\n",
    "\n",
    "def remove_citations(sent):\n",
    "    return re.sub(r\"\\[\\d+\", \"\", re.sub(r\" \\[\\d+\", \"\", sent)).replace(\" |\", \"\").replace(\"]\", \"\")"
   ]
  },
  {
   "cell_type": "code",
   "execution_count": 15,
   "metadata": {},
   "outputs": [],
   "source": [
    "files = ['/home/shanghong/work/hallucination_app/best_model/asqa-checkpoint-90-gtr-shot2-ndoc5-42-temp0.1-no_demo.json',\n",
    "         '/home/shanghong/work/hallucination_app/best_model/eli5-checkpoint-90-bm25-shot2-ndoc5-42-temp0.1-no_demo.json',\n",
    "         '/home/shanghong/work/hallucination_app/best_model/qampari-checkpoint-90-gtr-shot2-ndoc5-42-temp0.1-no_demo.json']\n",
    "\n",
    "\n",
    "# '/home/shanghong/work/hallucination_app/best_baseline/asqa-Pengfei-shot2-ndoc5-42-temp0.5.json',\n",
    "#          '/home/shanghong/work/hallucination_app/best_baseline/eli5-Pengfei-shot2-ndoc5-42-temp0.5.json',\n",
    "#          '/home/shanghong/work/hallucination_app/best_baseline/qampari-Pengfei-shot2-ndoc5-42-temp0.5.json',\n",
    "         "
   ]
  },
  {
   "cell_type": "code",
   "execution_count": 21,
   "metadata": {},
   "outputs": [
    {
     "name": "stdout",
     "output_type": "stream",
     "text": [
      "Processing asqa-checkpoint-90-gtr-shot2-ndoc5-42-temp0.1-no_demo.json\n",
      "Num rejection data: 413, answered data: 535\n",
      "5\n",
      "5\n",
      "Processing eli5-checkpoint-90-bm25-shot2-ndoc5-42-temp0.1-no_demo.json\n",
      "Num rejection data: 845, answered data: 155\n",
      "5\n",
      "5\n",
      "Processing qampari-checkpoint-90-gtr-shot2-ndoc5-42-temp0.1-no_demo.json\n",
      "Num rejection data: 776, answered data: 224\n",
      "5\n",
      "5\n",
      "Num of samples for human eval: 30\n"
     ]
    }
   ],
   "source": [
    "REJECTION_FUZZ_THRESHOLD=85\n",
    "REJECTION_FLAG=\"I apologize, but I couldn't find an answer\"\n",
    "\n",
    "llama3_human = []\n",
    "for fn in files:\n",
    "    with open(fn, 'r') as file:\n",
    "        data = json.load(file)['data']\n",
    "    # data = json.load(file)\n",
    "    basename = os.path.basename(fn)\n",
    "    print(f'Processing {basename}')\n",
    "\n",
    "    rejection = []\n",
    "    answered = []\n",
    "    l = 0\n",
    "    for item in data:\n",
    "        item['label'] = l\n",
    "        l+=1\n",
    "        is_rejection = fuzz.partial_ratio(normalize_answer(REJECTION_FLAG), normalize_answer(item['output'])) > REJECTION_FUZZ_THRESHOLD\n",
    "        if is_rejection:\n",
    "            item['origin'] = basename\n",
    "            item['reject'] = True\n",
    "            rejection.append(item)\n",
    "        else:\n",
    "            item['origin'] = basename\n",
    "            item['reject'] = False\n",
    "            answered.append(item)\n",
    "    \n",
    "    print(f'Num rejection data: {len(rejection)}, answered data: {len(answered)}')\n",
    "    final_rejection = random.sample(rejection, 5)\n",
    "    final_answered = random.sample(answered, 5)\n",
    "    \n",
    "    print({len(final_rejection=)})\n",
    "    print(len(final_answered))\n",
    "    llama3_human.extend(final_rejection)\n",
    "    llama3_human.extend(final_answered)\n",
    "\n",
    "# random.shuffle(llama3_human)\n",
    "print(f'Num of samples for human eval: {len(llama3_human)}')"
   ]
  },
  {
   "cell_type": "code",
   "execution_count": 29,
   "metadata": {},
   "outputs": [],
   "source": [
    "with open('llama3_human_eval_data.json', 'w', encoding='utf-8') as f:\n",
    "    json.dump(llama3_human, f, indent=4)"
   ]
  },
  {
   "cell_type": "code",
   "execution_count": 23,
   "metadata": {},
   "outputs": [],
   "source": [
    "files = ['/home/shanghong/work/hallucination_app/best_baseline/asqa-Pengfei-shot2-ndoc5-42-temp0.5.json',\n",
    "         '/home/shanghong/work/hallucination_app/best_baseline/eli5-Pengfei-shot2-ndoc5-42-temp0.5.json',\n",
    "         '/home/shanghong/work/hallucination_app/best_baseline/qampari-Pengfei-shot2-ndoc5-42-temp0.5.json']"
   ]
  },
  {
   "cell_type": "code",
   "execution_count": 39,
   "metadata": {},
   "outputs": [
    {
     "name": "stdout",
     "output_type": "stream",
     "text": [
      "0\n",
      "Processing asqa-Pengfei-shot2-ndoc5-42-temp0.5.json\n",
      "1\n",
      "2\n",
      "3\n",
      "4\n",
      "5\n",
      "6\n",
      "7\n",
      "8\n",
      "9\n",
      "10\n",
      "Processing eli5-Pengfei-shot2-ndoc5-42-temp0.5.json\n",
      "11\n",
      "12\n",
      "13\n",
      "14\n",
      "15\n",
      "16\n",
      "17\n",
      "18\n",
      "19\n",
      "20\n",
      "Processing qampari-Pengfei-shot2-ndoc5-42-temp0.5.json\n",
      "21\n",
      "22\n",
      "23\n",
      "24\n",
      "25\n",
      "26\n",
      "27\n",
      "28\n",
      "29\n"
     ]
    }
   ],
   "source": [
    "baseline_human = []\n",
    "i = 0\n",
    "fp = 0\n",
    "for llama3_item in llama3_human:\n",
    "    print(i)\n",
    "    if (i == 0 or (i % 10 == 0)):\n",
    "        fn = files[fp]\n",
    "        with open(fn, 'r') as file:\n",
    "            data = json.load(file)['data']\n",
    "        fp += 1\n",
    "        basename = os.path.basename(fn)\n",
    "        print(f'Processing {basename}')\n",
    "\n",
    "\n",
    "    label = llama3_item['label']\n",
    "    reject = llama3_item['reject']\n",
    "    item = data[label]\n",
    "    item['label'] = label\n",
    "    item['reject'] = reject\n",
    "    item['origin'] = basename\n",
    "    baseline_human.append(item)\n",
    "    i+=1\n",
    "    \n",
    "        "
   ]
  },
  {
   "cell_type": "code",
   "execution_count": 40,
   "metadata": {},
   "outputs": [],
   "source": [
    "with open('gpt35_human_eval_data.json', 'w', encoding='utf-8') as f:\n",
    "    json.dump(baseline_human, f, indent=4)"
   ]
  },
  {
   "cell_type": "code",
   "execution_count": 45,
   "metadata": {},
   "outputs": [],
   "source": [
    "output = []\n",
    "for item1, item2 in zip(llama3_human, baseline_human):\n",
    "    assert item1['label'] == item2['label']\n",
    "    assert item1['question'] == item2['question'], print(f'{item1['question']}, {item2['question']}')\n",
    "    item = copy.deepcopy(item1)\n",
    "    del item['output']\n",
    "    item['llama3_answer'] = item1['output']\n",
    "    item['gpt35_answer'] = item2['output']\n",
    "    output.append(item)"
   ]
  },
  {
   "cell_type": "code",
   "execution_count": null,
   "metadata": {},
   "outputs": [],
   "source": []
  },
  {
   "cell_type": "code",
   "execution_count": 46,
   "metadata": {},
   "outputs": [],
   "source": [
    "with open('output.json', 'w', encoding='utf-8') as f:\n",
    "    json.dump(output, f, indent=4)"
   ]
  },
  {
   "cell_type": "code",
   "execution_count": 22,
   "metadata": {},
   "outputs": [
    {
     "name": "stdout",
     "output_type": "stream",
     "text": [
      "Question: What are the positive aspects of the American National Debt, if any, and what would be the benefits of paying off the debt?\n",
      "=======\n",
      "[Doc 1]\n",
      "Title: national debt | a whisper in the wind\n",
      "Text: interest. We could establish a way for people to contribute to paying off the principle of the national debt by their donations. This first year, all of those people who make over 250,000 who voted for Obama could voluntarily contribute the difference between what they pay for taxes under Bush and what they will be paying under Obama. That would be a nice start, and it really wouldn’t cost them any more than what they have offered to pay the government anyway. Plus, there are many average Americans who recognize the need to pay down our debt, who might just\n",
      "----\n",
      "[Doc 2]\n",
      "Title: What if we’d been on the gold standard? | Econbrowser\n",
      "Text: increase the supply of currency only by paying off some of that debt. If they did so by buying gold instead, the level of debt would not be reduced. This is something of a zero sum game here; any benefit to holders of gold in the form of higher prices would come at the direct expense of taxpayers in the form of higher claims on their future earnings in the form of national debt.” Perhaps I am missing something but when exactly did the US pay off any debt? I think you said don’t focus on the month to month.\n",
      "----\n",
      "[Doc 3]\n",
      "Title: Did the White House Say Student Loan Debt Helps the Economy?\n",
      "Text: and earning a degree, especially when compared with the lifetime earnings of workers with high school degrees. What they don’t display is whether student debt (and in particular rising levels of debt) is in any substantive way related to those positive outcomes. Few people in the higher education world would dispute that, for most Americans, college leads to better paying jobs and higher economic outcomes. But claiming that student debt is the driver of that positive economic activity (as opposed to piggybacking off of it) is a misleading argument. Many of these financial benefits existed long before borrowing and the\n",
      "----\n",
      "[Doc 4]\n",
      "Title: Debt Snowball vs Debt Avalanche: What's Right for Me?\n",
      "Text: try to pay off as quickly as your monthly budget allows. The Benefits: You’ll reduce the amount of interest you pay on your debts. Methods for Paying Down Your Debt If you’re in debt, you’re not alone. Credit card debt in America has reached an all-time high. In June, Americans hit $1.21 trillion in revolving debt, surpassing the previous high of $1.20 trillion reached in April 2008 before the Great Recession. With all the issues we’ve faced since then, it would be reasonable to wonder how we could have found ourselves in this position again. So why are consumers are\n",
      "----\n",
      "[Doc 5]\n",
      "Title: National Debt Relief LLC – New York Credit And Debt Counseling BBB Accredited Business\n",
      "Text: your debtor throughout the life of the loan. Instead, your plan of action should be to pay back more than what you owe so that you are contributing a significant amount towards your principal balance. As you see there are a few bad aspects of going through National Debt Relief, but receiving any type of debt relief is going to have its downfalls with any company. What works to your benefit is the fact that National Debt Relief provides services that no other debt relief company can offer; also, the company can help reduce your debt without causing you to\n",
      "----\n",
      "=======\n",
      "Output: I apologize, but I couldn't find an answer to your question in the search results.\n"
     ]
    }
   ],
   "source": [
    "print(f'Question: {human_eval_data[0][\"question\"]}')\n",
    "print(\"=======\")\n",
    "i = 1\n",
    "for doc in human_eval_data[0]['docs']:\n",
    "    print(f'[Doc {i}]')\n",
    "    print(f'Title: {doc[\"title\"]}')\n",
    "    print(f'Text: {doc[\"text\"]}')\n",
    "    print('----')\n",
    "    i+=1\n",
    "print(\"=======\")\n",
    "print(f'Output: {human_eval_data[0][\"output\"]}')"
   ]
  },
  {
   "cell_type": "code",
   "execution_count": 13,
   "metadata": {},
   "outputs": [
    {
     "data": {
      "text/plain": [
       "'interest. We could establish a way for people to contribute to paying off the principle of the national debt by their donations. This first year, all of those people who make over 250,000 who voted for Obama could voluntarily contribute the difference between what they pay for taxes under Bush and what they will be paying under Obama. That would be a nice start, and it really wouldn’t cost them any more than what they have offered to pay the government anyway. Plus, there are many average Americans who recognize the need to pay down our debt, who might justincrease the supply of currency only by paying off some of that debt. If they did so by buying gold instead, the level of debt would not be reduced. This is something of a zero sum game here; any benefit to holders of gold in the form of higher prices would come at the direct expense of taxpayers in the form of higher claims on their future earnings in the form of national debt.” Perhaps I am missing something but when exactly did the US pay off any debt? I think you said don’t focus on the month to month.and earning a degree, especially when compared with the lifetime earnings of workers with high school degrees. What they don’t display is whether student debt (and in particular rising levels of debt) is in any substantive way related to those positive outcomes. Few people in the higher education world would dispute that, for most Americans, college leads to better paying jobs and higher economic outcomes. But claiming that student debt is the driver of that positive economic activity (as opposed to piggybacking off of it) is a misleading argument. Many of these financial benefits existed long before borrowing and thetry to pay off as quickly as your monthly budget allows. The Benefits: You’ll reduce the amount of interest you pay on your debts. Methods for Paying Down Your Debt If you’re in debt, you’re not alone. Credit card debt in America has reached an all-time high. In June, Americans hit $1.21 trillion in revolving debt, surpassing the previous high of $1.20 trillion reached in April 2008 before the Great Recession. With all the issues we’ve faced since then, it would be reasonable to wonder how we could have found ourselves in this position again. So why are consumers areyour debtor throughout the life of the loan. Instead, your plan of action should be to pay back more than what you owe so that you are contributing a significant amount towards your principal balance. As you see there are a few bad aspects of going through National Debt Relief, but receiving any type of debt relief is going to have its downfalls with any company. What works to your benefit is the fact that National Debt Relief provides services that no other debt relief company can offer; also, the company can help reduce your debt without causing you to'"
      ]
     },
     "execution_count": 13,
     "metadata": {},
     "output_type": "execute_result"
    }
   ],
   "source": [
    "docs"
   ]
  },
  {
   "cell_type": "markdown",
   "metadata": {},
   "source": [
    "# Form creation"
   ]
  },
  {
   "cell_type": "code",
   "execution_count": 66,
   "metadata": {},
   "outputs": [
    {
     "name": "stdout",
     "output_type": "stream",
     "text": [
      "{'responses': [{'responseId': 'ACYDBNjbWjyk1rT9f_wpIvBP-GqoxTtqs071aQj1NO87RU5sWGpgorfuWHvleuBI5YHVhBc', 'createTime': '2024-08-14T19:08:22.191Z', 'lastSubmittedTime': '2024-08-14T19:08:22.191704Z', 'answers': {'4d818704': {'questionId': '4d818704', 'textAnswers': {'answers': [{'value': 'Mustard'}]}}}}, {'responseId': 'ACYDBNhTSDbyEOwiEXkXUx4d-ZSTxv6Nc2UPomYeAzeYMMngiKuoNT0ZqG1p_MOQp73NY6c', 'createTime': '2024-08-14T19:06:42.958Z', 'lastSubmittedTime': '2024-08-14T19:06:42.958406Z', 'answers': {'4d818704': {'questionId': '4d818704', 'textAnswers': {'answers': [{'value': 'Ketchup'}]}}}}, {'responseId': 'ACYDBNi_Xvi2SaveQNRE9uaQIO53RDZoa-dYKLXhe6a7dORSoTXNdBqxHvu63-QkBksq1EY', 'createTime': '2024-08-14T19:08:26.171Z', 'lastSubmittedTime': '2024-08-14T19:08:26.171466Z', 'answers': {'4d818704': {'questionId': '4d818704', 'textAnswers': {'answers': [{'value': 'Ketchup'}]}}}}]}\n"
     ]
    }
   ],
   "source": [
    "from google.oauth2 import service_account\n",
    "from googleapiclient.discovery import build\n",
    "\n",
    "# Define the scope and your credentials file\n",
    "SCOPES = [\n",
    "    'https://www.googleapis.com/auth/forms.body',\n",
    "    'https://www.googleapis.com/auth/forms.responses.readonly'\n",
    "]\n",
    "SERVICE_ACCOUNT_FILE = '/home/maojia/work/Cite-PM/data/evaluation/human_eval/hallucination-432518-852da74548d1.json'\n",
    "\n",
    "# Authenticate and create the service\n",
    "creds = service_account.Credentials.from_service_account_file(\n",
    "        SERVICE_ACCOUNT_FILE, scopes=SCOPES)\n",
    "service = build('forms', 'v1', credentials=creds)\n",
    "\n",
    "# Form ID of the Google Form you want to retrieve responses from\n",
    "form_id = \"1S2CVoU2pYJq-wl9zkFQGq84Sj8YNfalZuRHoxo26ezc\"\n",
    "\n",
    "# Retrieve responses from the form\n",
    "result = service.forms().responses().list(formId=form_id).execute()\n",
    "print(result)\n"
   ]
  },
  {
   "cell_type": "code",
   "execution_count": 7,
   "metadata": {},
   "outputs": [
    {
     "name": "stdout",
     "output_type": "stream",
     "text": [
      "Please visit this URL to authorize this application: https://accounts.google.com/o/oauth2/auth?response_type=code&client_id=151971149418-q1q08rqkpr46dvpij67du7k949h591ki.apps.googleusercontent.com&redirect_uri=http%3A%2F%2Flocalhost%3A8080%2F&scope=https%3A%2F%2Fwww.googleapis.com%2Fauth%2Fforms.body&state=ZKK4wFiarDRQ2lUS7wxVwsS475XExU&access_type=offline\n",
      "Form created with ID: 1CKDJKXRVJ_ye2A0Jf7_RYR8t_laLfLUtT56c9UDVc14\n"
     ]
    }
   ],
   "source": [
    "from google_auth_oauthlib.flow import InstalledAppFlow\n",
    "from googleapiclient.discovery import build\n",
    "\n",
    "# Define the scope and the credentials file\n",
    "SCOPES = ['https://www.googleapis.com/auth/forms.body']\n",
    "CLIENT_SECRETS_FILE = '/home/maojia/work/Cite-PM/data/evaluation/human_eval/client_secret_151971149418-q1q08rqkpr46dvpij67du7k949h591ki.apps.googleusercontent.com.json'\n",
    "\n",
    "# Run the OAuth flow to get credentials\n",
    "flow = InstalledAppFlow.from_client_secrets_file(CLIENT_SECRETS_FILE, SCOPES)\n",
    "creds = flow.run_local_server(port=8080)  # This will use http://localhost:8080/ as redirect_uri\n",
    "\n",
    "# Build the service using the credentials\n",
    "service = build('forms', 'v1', credentials=creds)\n",
    "\n",
    "# Create a new form\n",
    "form = {\n",
    "    \"info\": {\n",
    "        \"title\": \"New Form\",\n",
    "        \"documentTitle\": \"New Form\"\n",
    "    }\n",
    "}\n",
    "\n",
    "# Call the forms API to create the form\n",
    "created_form = service.forms().create(body=form).execute()\n",
    "print(f'Form created with ID: {created_form[\"formId\"]}')\n"
   ]
  },
  {
   "cell_type": "code",
   "execution_count": 73,
   "metadata": {},
   "outputs": [
    {
     "name": "stdout",
     "output_type": "stream",
     "text": [
      "Form created with ID: 1doBbnSdAykY3SRZOGb2969wUeAkoAfsguIrJQ1DvPqc\n",
      "Form created successfully: https://docs.google.com/forms/d/1meMZaZNyToYxZCVDhVCitdtna52qPOF18ZSm1GcxA1M/edit\n"
     ]
    }
   ],
   "source": [
    "formId = \"1meMZaZNyToYxZCVDhVCitdtna52qPOF18ZSm1GcxA1M\"\n",
    "\n",
    "# Call the forms API to create the form\n",
    "created_form = service.forms().create(body=form).execute()\n",
    "print(f'Form created with ID: {created_form[\"formId\"]}')\n",
    "\n",
    "# Add a checkbox question\n",
    "checkbox_question = {\n",
    "    \"requests\": [{\n",
    "        \"createItem\": {\n",
    "            \"item\": {\n",
    "                \"title\": \"What condiments would you like on your hot dog?\",\n",
    "                \"questionItem\": {\n",
    "                    \"question\": {\n",
    "                        \"required\": True,\n",
    "                        \"choiceQuestion\": {\n",
    "                            \"type\": \"CHECKBOX\",\n",
    "                            \"options\": [\n",
    "                                {\"value\": \"Ketchup\"},\n",
    "                                {\"value\": \"Mustard\"},\n",
    "                                {\"value\": \"Relish\"}\n",
    "                            ],\n",
    "                        }\n",
    "                    }\n",
    "                }\n",
    "            },\n",
    "            \"location\": {\n",
    "                \"index\": 0\n",
    "            }\n",
    "        }\n",
    "    }]\n",
    "}\n",
    "\n",
    "# Add the checkbox question to the form\n",
    "service.forms().batchUpdate(formId=created_form[\"formId\"], body=checkbox_question).execute()\n",
    "\n",
    "\n",
    "print(f\"Form created successfully: https://docs.google.com/forms/d/{formId}/edit\")"
   ]
  },
  {
   "cell_type": "code",
   "execution_count": 23,
   "metadata": {},
   "outputs": [
    {
     "ename": "HttpError",
     "evalue": "<HttpError 400 when requesting https://forms.googleapis.com/v1/forms/1doBbnSdAykY3SRZOGb2969wUeAkoAfsguIrJQ1DvPqc:batchUpdate?alt=json returned \"Displayed text cannot contain newlines\". Details: \"Displayed text cannot contain newlines\">",
     "output_type": "error",
     "traceback": [
      "\u001b[0;31m---------------------------------------------------------------------------\u001b[0m",
      "\u001b[0;31mHttpError\u001b[0m                                 Traceback (most recent call last)",
      "Cell \u001b[0;32mIn[23], line 75\u001b[0m\n\u001b[1;32m      7\u001b[0m batch_update_request \u001b[38;5;241m=\u001b[39m {\n\u001b[1;32m      8\u001b[0m     \u001b[38;5;124m\"\u001b[39m\u001b[38;5;124mrequests\u001b[39m\u001b[38;5;124m\"\u001b[39m: [\n\u001b[1;32m      9\u001b[0m         {\n\u001b[0;32m   (...)\u001b[0m\n\u001b[1;32m     71\u001b[0m     ]\n\u001b[1;32m     72\u001b[0m }\n\u001b[1;32m     74\u001b[0m \u001b[38;5;66;03m# Execute the batch update request to add the questions\u001b[39;00m\n\u001b[0;32m---> 75\u001b[0m response \u001b[38;5;241m=\u001b[39m \u001b[43mservice\u001b[49m\u001b[38;5;241;43m.\u001b[39;49m\u001b[43mforms\u001b[49m\u001b[43m(\u001b[49m\u001b[43m)\u001b[49m\u001b[38;5;241;43m.\u001b[39;49m\u001b[43mbatchUpdate\u001b[49m\u001b[43m(\u001b[49m\u001b[43mformId\u001b[49m\u001b[38;5;241;43m=\u001b[39;49m\u001b[43mform_id\u001b[49m\u001b[43m,\u001b[49m\u001b[43m \u001b[49m\u001b[43mbody\u001b[49m\u001b[38;5;241;43m=\u001b[39;49m\u001b[43mbatch_update_request\u001b[49m\u001b[43m)\u001b[49m\u001b[38;5;241;43m.\u001b[39;49m\u001b[43mexecute\u001b[49m\u001b[43m(\u001b[49m\u001b[43m)\u001b[49m\n\u001b[1;32m     77\u001b[0m \u001b[38;5;28mprint\u001b[39m(\u001b[38;5;124m\"\u001b[39m\u001b[38;5;124mQuestions added successfully:\u001b[39m\u001b[38;5;124m\"\u001b[39m, response)\n",
      "File \u001b[0;32m~/miniconda3/envs/cite/lib/python3.10/site-packages/googleapiclient/_helpers.py:130\u001b[0m, in \u001b[0;36mpositional.<locals>.positional_decorator.<locals>.positional_wrapper\u001b[0;34m(*args, **kwargs)\u001b[0m\n\u001b[1;32m    128\u001b[0m     \u001b[38;5;28;01melif\u001b[39;00m positional_parameters_enforcement \u001b[38;5;241m==\u001b[39m POSITIONAL_WARNING:\n\u001b[1;32m    129\u001b[0m         logger\u001b[38;5;241m.\u001b[39mwarning(message)\n\u001b[0;32m--> 130\u001b[0m \u001b[38;5;28;01mreturn\u001b[39;00m \u001b[43mwrapped\u001b[49m\u001b[43m(\u001b[49m\u001b[38;5;241;43m*\u001b[39;49m\u001b[43margs\u001b[49m\u001b[43m,\u001b[49m\u001b[43m \u001b[49m\u001b[38;5;241;43m*\u001b[39;49m\u001b[38;5;241;43m*\u001b[39;49m\u001b[43mkwargs\u001b[49m\u001b[43m)\u001b[49m\n",
      "File \u001b[0;32m~/miniconda3/envs/cite/lib/python3.10/site-packages/googleapiclient/http.py:938\u001b[0m, in \u001b[0;36mHttpRequest.execute\u001b[0;34m(self, http, num_retries)\u001b[0m\n\u001b[1;32m    936\u001b[0m     callback(resp)\n\u001b[1;32m    937\u001b[0m \u001b[38;5;28;01mif\u001b[39;00m resp\u001b[38;5;241m.\u001b[39mstatus \u001b[38;5;241m>\u001b[39m\u001b[38;5;241m=\u001b[39m \u001b[38;5;241m300\u001b[39m:\n\u001b[0;32m--> 938\u001b[0m     \u001b[38;5;28;01mraise\u001b[39;00m HttpError(resp, content, uri\u001b[38;5;241m=\u001b[39m\u001b[38;5;28mself\u001b[39m\u001b[38;5;241m.\u001b[39muri)\n\u001b[1;32m    939\u001b[0m \u001b[38;5;28;01mreturn\u001b[39;00m \u001b[38;5;28mself\u001b[39m\u001b[38;5;241m.\u001b[39mpostproc(resp, content)\n",
      "\u001b[0;31mHttpError\u001b[0m: <HttpError 400 when requesting https://forms.googleapis.com/v1/forms/1doBbnSdAykY3SRZOGb2969wUeAkoAfsguIrJQ1DvPqc:batchUpdate?alt=json returned \"Displayed text cannot contain newlines\". Details: \"Displayed text cannot contain newlines\">"
     ]
    }
   ],
   "source": [
    "from googleapiclient.discovery import build\n",
    "\n",
    "# Assuming 'service' is already authenticated and the form is created\n",
    "form_id = '1doBbnSdAykY3SRZOGb2969wUeAkoAfsguIrJQ1DvPqc'  # Replace with your actual form ID\n",
    "\n",
    "# Define the batch update request to add questions\n",
    "batch_update_request = {\n",
    "    \"requests\": [\n",
    "        {\n",
    "            \"createItem\": {\n",
    "                \"item\": {\n",
    "                    \"title\": \"<br>What condiments would you <br> like on your hot dog?\",\n",
    "                    \"questionItem\": {\n",
    "                        \"question\": {\n",
    "                            \"required\": True,\n",
    "                            \"choiceQuestion\": {\n",
    "                                \"type\": \"CHECKBOX\",\n",
    "                                \"options\": [\n",
    "                                    {\"value\": \"Ketchup\"},\n",
    "                                    {\"value\": \"Mustard\"},\n",
    "                                    {\"value\": \"Relish\"}\n",
    "                                ],\n",
    "                            }\n",
    "                        }\n",
    "                    }\n",
    "                },\n",
    "                \"location\": {\n",
    "                    \"index\": 0\n",
    "                }\n",
    "            }\n",
    "        },\n",
    "        {\n",
    "            \"createItem\": {\n",
    "                \"item\": {\n",
    "                    \"title\": \"Do you prefer cats or dogs?\",\n",
    "                    \"questionItem\": {\n",
    "                        \"question\": {\n",
    "                            \"required\": True,\n",
    "                            \"choiceQuestion\": {\n",
    "                                \"type\": \"RADIO\",\n",
    "                                \"options\": [\n",
    "                                    {\"value\": \"Cats\"},\n",
    "                                    {\"value\": \"Dogs\"},\n",
    "                                ],\n",
    "                                \"shuffle\": False\n",
    "                            }\n",
    "                        }\n",
    "                    }\n",
    "                },\n",
    "                \"location\": {\n",
    "                    \"index\": 1\n",
    "                }\n",
    "            }\n",
    "        },\n",
    "        {\n",
    "            \"createItem\": {\n",
    "                \"item\": {\n",
    "                    \"title\": \"When were you born?\",\n",
    "                    \"questionItem\": {\n",
    "                        \"question\": {\n",
    "                            \"required\": True,\n",
    "                            \"dateQuestion\": {}\n",
    "                        }\n",
    "                    }\n",
    "                },\n",
    "                \"location\": {\n",
    "                    \"index\": 2\n",
    "                }\n",
    "            }\n",
    "        }\n",
    "    ]\n",
    "}\n",
    "\n",
    "# Execute the batch update request to add the questions\n",
    "response = service.forms().batchUpdate(formId=form_id, body=batch_update_request).execute()\n",
    "\n",
    "print(\"Questions added successfully:\", response)\n"
   ]
  },
  {
   "cell_type": "code",
   "execution_count": null,
   "metadata": {},
   "outputs": [],
   "source": []
  }
 ],
 "metadata": {
  "kernelspec": {
   "display_name": "cite",
   "language": "python",
   "name": "python3"
  },
  "language_info": {
   "codemirror_mode": {
    "name": "ipython",
    "version": 3
   },
   "file_extension": ".py",
   "mimetype": "text/x-python",
   "name": "python",
   "nbconvert_exporter": "python",
   "pygments_lexer": "ipython3",
   "version": "3.12.4"
  }
 },
 "nbformat": 4,
 "nbformat_minor": 2
}
